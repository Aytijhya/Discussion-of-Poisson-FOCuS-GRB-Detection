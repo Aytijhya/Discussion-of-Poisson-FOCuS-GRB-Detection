{
 "cells": [
  {
   "cell_type": "code",
   "execution_count": null,
   "metadata": {},
   "outputs": [],
   "source": [
    "import numpy as np\n",
    "import matplotlib.pyplot as plt\n",
    "import math\n",
    "import pandas as pd"
   ]
  },
  {
   "cell_type": "code",
   "execution_count": null,
   "metadata": {},
   "outputs": [],
   "source": [
    "def e_detector_sr(data, lmbda, alt, w):\n",
    "    N = len(data)\n",
    "    E = np.zeros(N)\n",
    "    M = np.zeros(len(alt))\n",
    "    L = np.zeros(len(alt))\n",
    "    for i in range(N):\n",
    "        L = np.exp(lmbda-alt) * (alt/lmbda)**data[i]\n",
    "        M = L*(M+1)\n",
    "        E[i] = np.average(M, weights = w)\n",
    "    return(E)\n",
    "\n",
    "data = np.concatenate((np.random.poisson(100, 2000),np.random.poisson(120, 10),np.random.poisson(100, 2000)))\n",
    "#data = np.random.poisson(100, 20000)\n",
    "v=np.array([0,1,2,3,4,5,6,7,8,9])\n",
    "s=np.array([1,2,3,4,5,6,7,8,9,np.inf])\n",
    "wt = np.exp(-v)-np.exp(-s)\n",
    "plt.plot(e_detector_sr(data, 100, np.array([110,120,130,140,150,160,170,180,190,200]), wt))\n",
    "plt.xlim((0,len(data)))\n",
    "plt.show()"
   ]
  },
  {
   "cell_type": "code",
   "execution_count": null,
   "metadata": {},
   "outputs": [],
   "source": [
    "def e_detector_cusum(data, lmbda, alt, w):\n",
    "    N = len(data)\n",
    "    E = np.zeros(N)\n",
    "    M = np.zeros(len(alt))\n",
    "    L = np.zeros(len(alt))\n",
    "    for i in range(N):\n",
    "        L = np.exp(lmbda-alt) * (alt/lmbda)**data[i]\n",
    "        M = L*np.maximum(M,1)\n",
    "        E[i] = np.average(M, weights = w)\n",
    "    return(E)\n",
    "\n",
    "data = np.concatenate((np.random.poisson(100, 2000),np.random.poisson(120, 10),np.random.poisson(100, 2000)))\n",
    "#data = np.random.poisson(100, 200000)\n",
    "v=np.array([0,1,2,3,4,5,6,7,8,9])\n",
    "s=np.array([1,2,3,4,5,6,7,8,9,np.inf])\n",
    "wt = np.exp(-v)-np.exp(-s)\n",
    "plt.plot(e_detector_cusum(data, 100, np.array([110,120,130,140,150,160,170,180,190,200]),wt))\n",
    "plt.xlim((0,len(data)))\n",
    "plt.show()"
   ]
  },
  {
   "cell_type": "code",
   "execution_count": null,
   "metadata": {},
   "outputs": [],
   "source": [
    "alpha_levels = np.array([100000,150000,200000])\n",
    "λ = 36\n",
    "alt = np.array([45,55,65,75,85,95,105,115,125,135])\n",
    "runs = range(50)\n",
    "size=2000000\n",
    "\n",
    "\n",
    "\n",
    "data_esr1=pd.DataFrame(index=alpha_levels, columns=runs)\n",
    "for run in runs:\n",
    "    print(run)\n",
    "    np.random.seed(run)\n",
    "    signal = np.random.poisson(λ, size)\n",
    "    significance = e_detector_sr(signal, λ, alt, wt)\n",
    "    for alpha_level in alpha_levels:\n",
    "        run_length = np.argmax(significance>alpha_level)\n",
    "        if run_length == 0:\n",
    "            run_length = size\n",
    "        data_esr1.loc[alpha_level, run] = run_length\n",
    "\n",
    "data_esr1[\"average\"] = data_esr1.mean(axis=\"columns\")"
   ]
  },
  {
   "cell_type": "code",
   "execution_count": null,
   "metadata": {},
   "outputs": [],
   "source": [
    "plt.plot(alpha_levels,data_esr1[\"average\"])\n",
    "plt.show()"
   ]
  },
  {
   "cell_type": "code",
   "execution_count": null,
   "metadata": {},
   "outputs": [],
   "source": [
    "print(data_esr1[\"average\"])"
   ]
  },
  {
   "cell_type": "code",
   "execution_count": null,
   "metadata": {},
   "outputs": [],
   "source": [
    "##Linearly interpolate to find the threshold corresponding to ARL 481039.72, which is the ARL of poisson-focus with 5 sigma threshold\n",
    "\n",
    "print(100000+(481039.72-325594.58)/4)"
   ]
  },
  {
   "cell_type": "code",
   "execution_count": null,
   "metadata": {},
   "outputs": [],
   "source": [
    "alpha_levels = np.linspace(10**4,10**5, 20)\n",
    "λ = 36\n",
    "alt = np.array([45,55,65,75,85,95,105,115,125,135])\n",
    "runs = range(50)\n",
    "size=2000000\n",
    "\n",
    "\n",
    "data_ecs=pd.DataFrame(index=alpha_levels, columns=runs)\n",
    "for run in runs:\n",
    "    np.random.seed(run)\n",
    "    signal = np.random.poisson(λ, size)\n",
    "    significance = e_detector_cusum(signal, λ, alt, wt)\n",
    "    for alpha_level in alpha_levels:\n",
    "        run_length = np.argmax(significance>alpha_level)\n",
    "        if run_length == 0:\n",
    "            run_length = size\n",
    "        data_ecs.loc[alpha_level, run] = run_length\n",
    "\n",
    "data_ecs[\"average\"] = data_ecs.mean(axis=\"columns\")"
   ]
  },
  {
   "cell_type": "code",
   "execution_count": null,
   "metadata": {},
   "outputs": [],
   "source": [
    "plt.plot(alpha_levels,data_ecs[\"average\"])\n",
    "plt.show()"
   ]
  },
  {
   "cell_type": "code",
   "execution_count": null,
   "metadata": {},
   "outputs": [],
   "source": [
    "print(data_ecs[\"average\"])"
   ]
  },
  {
   "cell_type": "code",
   "execution_count": null,
   "metadata": {},
   "outputs": [],
   "source": [
    "##Linearly interpolate to find the threshold corresponding to ARL 481039.72, which is the ARL of poisson-focus with 5 sigma threshold\n",
    "\n",
    "print(60005.263158+(481039.72-434783.88)*(114210.526316-62105.263158)/(694252.32-434783.88))"
   ]
  }
 ],
 "metadata": {
  "kernelspec": {
   "display_name": "base",
   "language": "python",
   "name": "python3"
  },
  "language_info": {
   "codemirror_mode": {
    "name": "ipython",
    "version": 3
   },
   "file_extension": ".py",
   "mimetype": "text/x-python",
   "name": "python",
   "nbconvert_exporter": "python",
   "pygments_lexer": "ipython3",
   "version": "3.9.7"
  }
 },
 "nbformat": 4,
 "nbformat_minor": 2
}
